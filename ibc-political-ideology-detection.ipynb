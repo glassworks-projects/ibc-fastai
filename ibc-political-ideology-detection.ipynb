{
 "cells": [
  {
   "cell_type": "markdown",
   "metadata": {},
   "source": [
    "## Political ideology analysis\n",
    "\n",
    "This notebook aims to predict political ideology using the [Augmented IBC Data Set (Iyyer et. al 2014)](https://people.cs.umass.edu/~miyyer/ibc/index.html). The dataset is not included in the GitHub respository; contact Dr. Iyyer for access. I aimed to improve upon the accuracy benchmark in his [2014 paper](https://www.aclweb.org/anthology/P14-1105.pdf). Using the fast.ai text library, I was able to achieve 80.5% accuracy on the original set, an 11.2% improvement. I'm sure further improvements could be achieved using different LM architectures and data augmentation strategies; these are areas for future experimentation."
   ]
  },
  {
   "cell_type": "code",
   "execution_count": 1,
   "metadata": {},
   "outputs": [],
   "source": [
    "import treeUtil\n",
    "import pandas as pd\n",
    "import pickle\n",
    "from fastai.text import *\n",
    "from sklearn.model_selection import train_test_split"
   ]
  },
  {
   "cell_type": "code",
   "execution_count": 2,
   "metadata": {},
   "outputs": [],
   "source": [
    "path = \"(insert dataset path here)\""
   ]
  },
  {
   "cell_type": "code",
   "execution_count": 3,
   "metadata": {},
   "outputs": [],
   "source": [
    "[lib, con, neutral] = pickle.load(open(path, \"rb\"))"
   ]
  },
  {
   "cell_type": "code",
   "execution_count": 11,
   "metadata": {},
   "outputs": [],
   "source": [
    "def label_traverse(n) :\n",
    "    try : \n",
    "        if (n.label != 'Neutral') : \n",
    "            print (n.label + \": \")\n",
    "            if (type(n) is treeUtil.nodeObj) : \n",
    "                print(n.get_words())\n",
    "                print (\"\\n\")\n",
    "            elif (type(n) is treeUtil.leafObj) :\n",
    "                print(n.print_leaf())\n",
    "                print (\"\\n\")\n",
    "    except (AttributeError):\n",
    "        # skip if unlabeled\n",
    "        pass\n",
    "    if (n.c1 is not None) : label_traverse(n.c1)\n",
    "    if (n.c2 is not None) : label_traverse(n.c2)"
   ]
  },
  {
   "cell_type": "code",
   "execution_count": 12,
   "metadata": {},
   "outputs": [
    {
     "name": "stdout",
     "output_type": "stream",
     "text": [
      "Liberal: \n",
      "The additional schooling foisted upon one group by this arbitrary state of affairs produced a scaled-down version of our experiment , allowing Angrist and Krueger to conclude that education did , in fact , help people earn more money .\n",
      "\n",
      "\n",
      "Liberal: \n",
      "produced a scaled-down version of our experiment , allowing Angrist and Krueger to conclude that education did , in fact , help people earn more money\n",
      "\n",
      "\n",
      "Liberal: \n",
      "to conclude that education did , in fact , help people earn more money\n",
      "\n",
      "\n",
      "Liberal: \n",
      "conclude that education did , in fact , help people earn more money\n",
      "\n",
      "\n"
     ]
    }
   ],
   "source": [
    "label_traverse(lib[10])"
   ]
  },
  {
   "cell_type": "code",
   "execution_count": 110,
   "metadata": {},
   "outputs": [],
   "source": [
    "data = pd.DataFrame(columns=['text', 'label'])"
   ]
  },
  {
   "cell_type": "code",
   "execution_count": 106,
   "metadata": {},
   "outputs": [],
   "source": [
    "def label_add (i, df) :\n",
    "    try :\n",
    "        if (i.label != 'Neutral') :\n",
    "            lab = 1 if i.label == 'Liberal' else 0\n",
    "            if (type(i) is treeUtil.nodeObj) :\n",
    "                df.loc[len(df)] = [i.get_words(), lab]\n",
    "            elif (type(i) is treeUtil.leafObj) :\n",
    "                df.loc[len(df)] = [i.word, lab]\n",
    "    except (AttributeError):\n",
    "        pass\n",
    "    if (i.c1 is not None) : label_add(i.c1, df)\n",
    "    if (i.c2 is not None) : label_add(i.c2, df)"
   ]
  },
  {
   "cell_type": "code",
   "execution_count": 69,
   "metadata": {},
   "outputs": [],
   "source": [
    "def label_list_add (l, df) :\n",
    "    for i in l :\n",
    "        label_add(i, df)"
   ]
  },
  {
   "cell_type": "code",
   "execution_count": 111,
   "metadata": {},
   "outputs": [],
   "source": [
    "label_list_add(lib[:1701], data)\n",
    "label_list_add(con, data)"
   ]
  },
  {
   "cell_type": "code",
   "execution_count": 112,
   "metadata": {},
   "outputs": [
    {
     "data": {
      "text/html": [
       "<div>\n",
       "<style scoped>\n",
       "    .dataframe tbody tr th:only-of-type {\n",
       "        vertical-align: middle;\n",
       "    }\n",
       "\n",
       "    .dataframe tbody tr th {\n",
       "        vertical-align: top;\n",
       "    }\n",
       "\n",
       "    .dataframe thead th {\n",
       "        text-align: right;\n",
       "    }\n",
       "</style>\n",
       "<table border=\"1\" class=\"dataframe\">\n",
       "  <thead>\n",
       "    <tr style=\"text-align: right;\">\n",
       "      <th></th>\n",
       "      <th>text</th>\n",
       "      <th>label</th>\n",
       "    </tr>\n",
       "  </thead>\n",
       "  <tbody>\n",
       "    <tr>\n",
       "      <th>4349</th>\n",
       "      <td>lower energy use ( though lower yields , too )...</td>\n",
       "      <td>1</td>\n",
       "    </tr>\n",
       "    <tr>\n",
       "      <th>9218</th>\n",
       "      <td>ATF whistle-blowers who allege the poorly run ...</td>\n",
       "      <td>0</td>\n",
       "    </tr>\n",
       "    <tr>\n",
       "      <th>6148</th>\n",
       "      <td>By asking of border enforcement more than it c...</td>\n",
       "      <td>1</td>\n",
       "    </tr>\n",
       "    <tr>\n",
       "      <th>4752</th>\n",
       "      <td>the waste and environmental damage of the low-...</td>\n",
       "      <td>1</td>\n",
       "    </tr>\n",
       "    <tr>\n",
       "      <th>5482</th>\n",
       "      <td>some who have fallen for quirky but harmless c...</td>\n",
       "      <td>1</td>\n",
       "    </tr>\n",
       "  </tbody>\n",
       "</table>\n",
       "</div>"
      ],
      "text/plain": [
       "                                                   text label\n",
       "4349  lower energy use ( though lower yields , too )...     1\n",
       "9218  ATF whistle-blowers who allege the poorly run ...     0\n",
       "6148  By asking of border enforcement more than it c...     1\n",
       "4752  the waste and environmental damage of the low-...     1\n",
       "5482  some who have fallen for quirky but harmless c...     1"
      ]
     },
     "execution_count": 112,
     "metadata": {},
     "output_type": "execute_result"
    }
   ],
   "source": [
    "data.sample(5)"
   ]
  },
  {
   "cell_type": "code",
   "execution_count": 113,
   "metadata": {},
   "outputs": [
    {
     "data": {
      "text/html": [
       "<div>\n",
       "<style scoped>\n",
       "    .dataframe tbody tr th:only-of-type {\n",
       "        vertical-align: middle;\n",
       "    }\n",
       "\n",
       "    .dataframe tbody tr th {\n",
       "        vertical-align: top;\n",
       "    }\n",
       "\n",
       "    .dataframe thead th {\n",
       "        text-align: right;\n",
       "    }\n",
       "</style>\n",
       "<table border=\"1\" class=\"dataframe\">\n",
       "  <thead>\n",
       "    <tr style=\"text-align: right;\">\n",
       "      <th></th>\n",
       "      <th>text</th>\n",
       "      <th>label</th>\n",
       "    </tr>\n",
       "  </thead>\n",
       "  <tbody>\n",
       "    <tr>\n",
       "      <th>8148</th>\n",
       "      <td>started funding radical multiculturalists , ev...</td>\n",
       "      <td>0</td>\n",
       "    </tr>\n",
       "    <tr>\n",
       "      <th>2119</th>\n",
       "      <td>the poor to build wealth , to access the capit...</td>\n",
       "      <td>1</td>\n",
       "    </tr>\n",
       "    <tr>\n",
       "      <th>988</th>\n",
       "      <td>free-market ideology</td>\n",
       "      <td>0</td>\n",
       "    </tr>\n",
       "    <tr>\n",
       "      <th>10532</th>\n",
       "      <td>its `` mission is to formulate and promote con...</td>\n",
       "      <td>0</td>\n",
       "    </tr>\n",
       "    <tr>\n",
       "      <th>11393</th>\n",
       "      <td>repeal of the estate tax , which affected only...</td>\n",
       "      <td>1</td>\n",
       "    </tr>\n",
       "    <tr>\n",
       "      <th>7542</th>\n",
       "      <td>more productive purposes in the free market</td>\n",
       "      <td>0</td>\n",
       "    </tr>\n",
       "    <tr>\n",
       "      <th>3973</th>\n",
       "      <td>could be a backlash of anger , bitterness , an...</td>\n",
       "      <td>1</td>\n",
       "    </tr>\n",
       "    <tr>\n",
       "      <th>212</th>\n",
       "      <td>will be critical to the success or failure of ...</td>\n",
       "      <td>1</td>\n",
       "    </tr>\n",
       "    <tr>\n",
       "      <th>11161</th>\n",
       "      <td>been an argument for GSEs to guarantee the cre...</td>\n",
       "      <td>0</td>\n",
       "    </tr>\n",
       "    <tr>\n",
       "      <th>1139</th>\n",
       "      <td>reducing migratory pressures leading to U.S.-b...</td>\n",
       "      <td>1</td>\n",
       "    </tr>\n",
       "  </tbody>\n",
       "</table>\n",
       "</div>"
      ],
      "text/plain": [
       "                                                    text label\n",
       "8148   started funding radical multiculturalists , ev...     0\n",
       "2119   the poor to build wealth , to access the capit...     1\n",
       "988                                 free-market ideology     0\n",
       "10532  its `` mission is to formulate and promote con...     0\n",
       "11393  repeal of the estate tax , which affected only...     1\n",
       "7542         more productive purposes in the free market     0\n",
       "3973   could be a backlash of anger , bitterness , an...     1\n",
       "212    will be critical to the success or failure of ...     1\n",
       "11161  been an argument for GSEs to guarantee the cre...     0\n",
       "1139   reducing migratory pressures leading to U.S.-b...     1"
      ]
     },
     "execution_count": 113,
     "metadata": {},
     "output_type": "execute_result"
    }
   ],
   "source": [
    "data.sample(10)"
   ]
  },
  {
   "cell_type": "code",
   "execution_count": 115,
   "metadata": {},
   "outputs": [
    {
     "data": {
      "text/plain": [
       "1    6513\n",
       "0    5778\n",
       "Name: label, dtype: int64"
      ]
     },
     "execution_count": 115,
     "metadata": {},
     "output_type": "execute_result"
    }
   ],
   "source": [
    "data['label'].value_counts()"
   ]
  },
  {
   "cell_type": "code",
   "execution_count": 116,
   "metadata": {},
   "outputs": [
    {
     "name": "stderr",
     "output_type": "stream",
     "text": [
      "/opt/anaconda3/lib/python3.7/site-packages/sklearn/model_selection/_split.py:2179: FutureWarning: From version 0.21, test_size will always complement train_size unless both are specified.\n",
      "  FutureWarning)\n"
     ]
    }
   ],
   "source": [
    "[master_train, master_test] = train_test_split(data, train_size = 0.8, stratify=data['label'], shuffle=True)"
   ]
  },
  {
   "cell_type": "code",
   "execution_count": 117,
   "metadata": {},
   "outputs": [],
   "source": [
    "data_lm = TextLMDataBunch.from_df(\n",
    "    path=\"./\", train_df=master_train, valid_df=master_test, text_cols=0, label_cols=1, max_vocab=80000)"
   ]
  },
  {
   "cell_type": "code",
   "execution_count": 118,
   "metadata": {},
   "outputs": [
    {
     "data": {
      "text/html": [
       "<table border=\"1\" class=\"dataframe\">\n",
       "  <thead>\n",
       "    <tr style=\"text-align: right;\">\n",
       "      <th>idx</th>\n",
       "      <th>text</th>\n",
       "    </tr>\n",
       "  </thead>\n",
       "  <tbody>\n",
       "    <tr>\n",
       "      <td>0</td>\n",
       "      <td>extraction and climate - related disasters xxbos created a fantastic opportunity for moochers to profit from government - backed loans xxbos the voices and lives of middle - and lower - class working women xxbos xxmaj that is why it is critical for progressives to support an intellectual community in studying the long - term consequences of income inequality , the relationship between equity and growth , and how different</td>\n",
       "    </tr>\n",
       "    <tr>\n",
       "      <td>1</td>\n",
       "      <td>keep their jobs . xxbos the expansion of the xxmaj american social safety net during the xxmaj great xxmaj depression xxbos reflected among their self - appointed leaders , whose interest lies in simply boosting the number of warm brown bodies they can claim to represent xxbos envision a form of capitalism that would temper our individualism with a `` social market '' -- a phrase the author , perhaps</td>\n",
       "    </tr>\n",
       "    <tr>\n",
       "      <td>2</td>\n",
       "      <td>the bottom , those who have been written off as apathetic , too ignorant or hopeless , begin to make demands . xxbos been overshadowed by those in the administration , and in key leadership roles in the xxmaj congress , who never seem to miss an opportunity to dismiss environmental protection as a priority xxbos developed anti - laissez - faire arguments and supported xxmaj progressive causes may surprise</td>\n",
       "    </tr>\n",
       "    <tr>\n",
       "      <td>3</td>\n",
       "      <td>far more if the government had instead improved the incentives for people and businesses to invest , produce and grow , '' presumably through lower taxes and relaxed regulation xxbos argue that three million new xxup u.s. jobs could be created by building wind turbines , making buildings more energy efficient , and designing other kindred projects xxbos the justifications used by foreign forces around women 's rights xxbos xxmaj</td>\n",
       "    </tr>\n",
       "    <tr>\n",
       "      <td>4</td>\n",
       "      <td>- as well as the old canard that they are hopeless romantics standing athwart the thrust of progress . xxbos the after - tax incomes of the working poor xxbos law , inventors devising new and useful products , entrepreneurs bringing those products to market and finding ever - more - efficient ways to satisfy customers , and individuals producing more than they consume xxbos charge paying patients extra to</td>\n",
       "    </tr>\n",
       "  </tbody>\n",
       "</table>"
      ],
      "text/plain": [
       "<IPython.core.display.HTML object>"
      ]
     },
     "metadata": {},
     "output_type": "display_data"
    }
   ],
   "source": [
    "data_lm.show_batch()"
   ]
  },
  {
   "cell_type": "code",
   "execution_count": 119,
   "metadata": {},
   "outputs": [
    {
     "data": {
      "text/html": [],
      "text/plain": [
       "<IPython.core.display.HTML object>"
      ]
     },
     "metadata": {},
     "output_type": "display_data"
    },
    {
     "name": "stdout",
     "output_type": "stream",
     "text": [
      "LR Finder is complete, type {learner_name}.recorder.plot() to see the graph.\n",
      "Min numerical gradient: 6.92E-02\n",
      "Min loss divided by 10: 3.02E-02\n"
     ]
    },
    {
     "data": {
      "image/png": "[encoded data removed]",
      "text/plain": [
       "<Figure size 432x288 with 1 Axes>"
      ]
     },
     "metadata": {
      "needs_background": "light"
     },
     "output_type": "display_data"
    }
   ],
   "source": [
    "lang = language_model_learner(data_lm, AWD_LSTM)\n",
    "lang.lr_find()\n",
    "lang.recorder.plot(suggestion=True)"
   ]
  },
  {
   "cell_type": "code",
   "execution_count": 120,
   "metadata": {},
   "outputs": [
    {
     "data": {
      "text/html": [
       "<table border=\"1\" class=\"dataframe\">\n",
       "  <thead>\n",
       "    <tr style=\"text-align: left;\">\n",
       "      <th>epoch</th>\n",
       "      <th>train_loss</th>\n",
       "      <th>valid_loss</th>\n",
       "      <th>accuracy</th>\n",
       "      <th>time</th>\n",
       "    </tr>\n",
       "  </thead>\n",
       "  <tbody>\n",
       "    <tr>\n",
       "      <td>0</td>\n",
       "      <td>4.901320</td>\n",
       "      <td>4.038635</td>\n",
       "      <td>0.306610</td>\n",
       "      <td>00:07</td>\n",
       "    </tr>\n",
       "  </tbody>\n",
       "</table>"
      ],
      "text/plain": [
       "<IPython.core.display.HTML object>"
      ]
     },
     "metadata": {},
     "output_type": "display_data"
    }
   ],
   "source": [
    "lang.fit_one_cycle(1, 6.92E-02)"
   ]
  },
  {
   "cell_type": "code",
   "execution_count": 121,
   "metadata": {},
   "outputs": [
    {
     "data": {
      "text/html": [],
      "text/plain": [
       "<IPython.core.display.HTML object>"
      ]
     },
     "metadata": {},
     "output_type": "display_data"
    },
    {
     "name": "stdout",
     "output_type": "stream",
     "text": [
      "LR Finder is complete, type {learner_name}.recorder.plot() to see the graph.\n",
      "Min numerical gradient: 3.31E-02\n",
      "Min loss divided by 10: 1.45E-02\n"
     ]
    },
    {
     "data": {
      "image/png": "[encoded data removed]",
      "text/plain": [
       "<Figure size 432x288 with 1 Axes>"
      ]
     },
     "metadata": {
      "needs_background": "light"
     },
     "output_type": "display_data"
    }
   ],
   "source": [
    "lang.lr_find()\n",
    "lang.recorder.plot(suggestion=True)"
   ]
  },
  {
   "cell_type": "code",
   "execution_count": 122,
   "metadata": {},
   "outputs": [
    {
     "data": {
      "text/html": [
       "<table border=\"1\" class=\"dataframe\">\n",
       "  <thead>\n",
       "    <tr style=\"text-align: left;\">\n",
       "      <th>epoch</th>\n",
       "      <th>train_loss</th>\n",
       "      <th>valid_loss</th>\n",
       "      <th>accuracy</th>\n",
       "      <th>time</th>\n",
       "    </tr>\n",
       "  </thead>\n",
       "  <tbody>\n",
       "    <tr>\n",
       "      <td>0</td>\n",
       "      <td>3.824026</td>\n",
       "      <td>3.435923</td>\n",
       "      <td>0.388430</td>\n",
       "      <td>00:09</td>\n",
       "    </tr>\n",
       "    <tr>\n",
       "      <td>1</td>\n",
       "      <td>3.409279</td>\n",
       "      <td>2.964176</td>\n",
       "      <td>0.470126</td>\n",
       "      <td>00:09</td>\n",
       "    </tr>\n",
       "    <tr>\n",
       "      <td>2</td>\n",
       "      <td>2.966553</td>\n",
       "      <td>2.610362</td>\n",
       "      <td>0.535280</td>\n",
       "      <td>00:09</td>\n",
       "    </tr>\n",
       "    <tr>\n",
       "      <td>3</td>\n",
       "      <td>2.530226</td>\n",
       "      <td>2.341542</td>\n",
       "      <td>0.590439</td>\n",
       "      <td>00:09</td>\n",
       "    </tr>\n",
       "    <tr>\n",
       "      <td>4</td>\n",
       "      <td>2.096518</td>\n",
       "      <td>2.117270</td>\n",
       "      <td>0.635938</td>\n",
       "      <td>00:09</td>\n",
       "    </tr>\n",
       "    <tr>\n",
       "      <td>5</td>\n",
       "      <td>1.727136</td>\n",
       "      <td>1.980465</td>\n",
       "      <td>0.666468</td>\n",
       "      <td>00:09</td>\n",
       "    </tr>\n",
       "    <tr>\n",
       "      <td>6</td>\n",
       "      <td>1.446978</td>\n",
       "      <td>1.927016</td>\n",
       "      <td>0.680432</td>\n",
       "      <td>00:09</td>\n",
       "    </tr>\n",
       "    <tr>\n",
       "      <td>7</td>\n",
       "      <td>1.292738</td>\n",
       "      <td>1.922629</td>\n",
       "      <td>0.682242</td>\n",
       "      <td>00:09</td>\n",
       "    </tr>\n",
       "  </tbody>\n",
       "</table>"
      ],
      "text/plain": [
       "<IPython.core.display.HTML object>"
      ]
     },
     "metadata": {},
     "output_type": "display_data"
    }
   ],
   "source": [
    "lang.unfreeze()\n",
    "lang.fit_one_cycle(8, 1e-2, moms=(0.8,0.7))"
   ]
  },
  {
   "cell_type": "code",
   "execution_count": 123,
   "metadata": {},
   "outputs": [],
   "source": [
    "lang.save(\"tuned-subsentence-2\")\n",
    "lang.save_encoder('tuned-subsentence-enc-2')"
   ]
  },
  {
   "cell_type": "code",
   "execution_count": 124,
   "metadata": {},
   "outputs": [
    {
     "data": {
      "text/plain": [
       "'the republicans are always pro - life protections xxbos The strength of the new scholars make it harder to rekindle the automatically available'"
      ]
     },
     "execution_count": 124,
     "metadata": {},
     "output_type": "execute_result"
    }
   ],
   "source": [
    "lang.predict(\"the republicans are always\", 20)"
   ]
  },
  {
   "cell_type": "code",
   "execution_count": 125,
   "metadata": {},
   "outputs": [],
   "source": [
    "data_clas = TextClasDataBunch.from_df(\n",
    "    path=\"./\", train_df=master_train, valid_df=master_test, text_cols=0, label_cols=1, vocab = data_lm.vocab)\n",
    "\n",
    "learn_clas = text_classifier_learner(data_clas, AWD_LSTM, drop_mult=0.5)\n",
    "learn_clas.load_encoder('tuned-subsentence-enc-2')"
   ]
  },
  {
   "cell_type": "code",
   "execution_count": 126,
   "metadata": {},
   "outputs": [
    {
     "data": {
      "text/html": [],
      "text/plain": [
       "<IPython.core.display.HTML object>"
      ]
     },
     "metadata": {},
     "output_type": "display_data"
    },
    {
     "name": "stdout",
     "output_type": "stream",
     "text": [
      "LR Finder is complete, type {learner_name}.recorder.plot() to see the graph.\n",
      "Min numerical gradient: 9.12E-07\n",
      "Min loss divided by 10: 1.45E-02\n"
     ]
    },
    {
     "data": {
      "image/png": "[encoded data removed]",
      "text/plain": [
       "<Figure size 432x288 with 1 Axes>"
      ]
     },
     "metadata": {
      "needs_background": "light"
     },
     "output_type": "display_data"
    }
   ],
   "source": [
    "learn_clas.lr_find()\n",
    "learn_clas.recorder.plot(suggestion=True)"
   ]
  },
  {
   "cell_type": "code",
   "execution_count": 127,
   "metadata": {},
   "outputs": [
    {
     "data": {
      "text/html": [
       "<table border=\"1\" class=\"dataframe\">\n",
       "  <thead>\n",
       "    <tr style=\"text-align: left;\">\n",
       "      <th>epoch</th>\n",
       "      <th>train_loss</th>\n",
       "      <th>valid_loss</th>\n",
       "      <th>accuracy</th>\n",
       "      <th>time</th>\n",
       "    </tr>\n",
       "  </thead>\n",
       "  <tbody>\n",
       "    <tr>\n",
       "      <td>0</td>\n",
       "      <td>0.653802</td>\n",
       "      <td>0.625575</td>\n",
       "      <td>0.631151</td>\n",
       "      <td>00:05</td>\n",
       "    </tr>\n",
       "  </tbody>\n",
       "</table>"
      ],
      "text/plain": [
       "<IPython.core.display.HTML object>"
      ]
     },
     "metadata": {},
     "output_type": "display_data"
    }
   ],
   "source": [
    "moms = (0.8,0.7)\n",
    "learn_clas.fit_one_cycle(1, 1e-3, moms=moms)"
   ]
  },
  {
   "cell_type": "code",
   "execution_count": 128,
   "metadata": {},
   "outputs": [
    {
     "data": {
      "text/html": [],
      "text/plain": [
       "<IPython.core.display.HTML object>"
      ]
     },
     "metadata": {},
     "output_type": "display_data"
    },
    {
     "name": "stdout",
     "output_type": "stream",
     "text": [
      "LR Finder is complete, type {learner_name}.recorder.plot() to see the graph.\n",
      "Min numerical gradient: 7.59E-07\n",
      "Min loss divided by 10: 9.12E-08\n"
     ]
    },
    {
     "data": {
      "image/png": "[encoded data removed]",
      "text/plain": [
       "<Figure size 432x288 with 1 Axes>"
      ]
     },
     "metadata": {
      "needs_background": "light"
     },
     "output_type": "display_data"
    }
   ],
   "source": [
    "learn_clas.freeze_to(-1)\n",
    "learn_clas.lr_find()\n",
    "learn_clas.recorder.plot(suggestion=True)"
   ]
  },
  {
   "cell_type": "code",
   "execution_count": 129,
   "metadata": {},
   "outputs": [
    {
     "data": {
      "text/html": [
       "<table border=\"1\" class=\"dataframe\">\n",
       "  <thead>\n",
       "    <tr style=\"text-align: left;\">\n",
       "      <th>epoch</th>\n",
       "      <th>train_loss</th>\n",
       "      <th>valid_loss</th>\n",
       "      <th>accuracy</th>\n",
       "      <th>time</th>\n",
       "    </tr>\n",
       "  </thead>\n",
       "  <tbody>\n",
       "    <tr>\n",
       "      <td>0</td>\n",
       "      <td>0.629883</td>\n",
       "      <td>0.626899</td>\n",
       "      <td>0.629931</td>\n",
       "      <td>00:05</td>\n",
       "    </tr>\n",
       "  </tbody>\n",
       "</table>"
      ],
      "text/plain": [
       "<IPython.core.display.HTML object>"
      ]
     },
     "metadata": {},
     "output_type": "display_data"
    }
   ],
   "source": [
    "learn_clas.fit_one_cycle(1, 7.59E-07, moms=moms)"
   ]
  },
  {
   "cell_type": "code",
   "execution_count": 130,
   "metadata": {},
   "outputs": [
    {
     "data": {
      "text/html": [],
      "text/plain": [
       "<IPython.core.display.HTML object>"
      ]
     },
     "metadata": {},
     "output_type": "display_data"
    },
    {
     "name": "stdout",
     "output_type": "stream",
     "text": [
      "LR Finder is complete, type {learner_name}.recorder.plot() to see the graph.\n",
      "Min numerical gradient: 8.32E-02\n",
      "Min loss divided by 10: 9.12E-08\n"
     ]
    },
    {
     "data": {
      "image/png": "[encoded data removed]",
      "text/plain": [
       "<Figure size 432x288 with 1 Axes>"
      ]
     },
     "metadata": {
      "needs_background": "light"
     },
     "output_type": "display_data"
    }
   ],
   "source": [
    "learn_clas.freeze_to(-2)\n",
    "learn_clas.lr_find()\n",
    "learn_clas.recorder.plot(suggestion=True)"
   ]
  },
  {
   "cell_type": "code",
   "execution_count": 131,
   "metadata": {},
   "outputs": [
    {
     "data": {
      "text/html": [
       "<table border=\"1\" class=\"dataframe\">\n",
       "  <thead>\n",
       "    <tr style=\"text-align: left;\">\n",
       "      <th>epoch</th>\n",
       "      <th>train_loss</th>\n",
       "      <th>valid_loss</th>\n",
       "      <th>accuracy</th>\n",
       "      <th>time</th>\n",
       "    </tr>\n",
       "  </thead>\n",
       "  <tbody>\n",
       "    <tr>\n",
       "      <td>0</td>\n",
       "      <td>0.617729</td>\n",
       "      <td>0.544892</td>\n",
       "      <td>0.718178</td>\n",
       "      <td>00:05</td>\n",
       "    </tr>\n",
       "  </tbody>\n",
       "</table>"
      ],
      "text/plain": [
       "<IPython.core.display.HTML object>"
      ]
     },
     "metadata": {},
     "output_type": "display_data"
    }
   ],
   "source": [
    "learn_clas.fit_one_cycle(1, 8.32E-02, moms=moms)"
   ]
  },
  {
   "cell_type": "code",
   "execution_count": 132,
   "metadata": {},
   "outputs": [
    {
     "data": {
      "text/html": [],
      "text/plain": [
       "<IPython.core.display.HTML object>"
      ]
     },
     "metadata": {},
     "output_type": "display_data"
    },
    {
     "name": "stdout",
     "output_type": "stream",
     "text": [
      "LR Finder is complete, type {learner_name}.recorder.plot() to see the graph.\n",
      "Min numerical gradient: 7.59E-07\n",
      "Min loss divided by 10: 1.32E-07\n"
     ]
    },
    {
     "data": {
      "image/png": "[encoded data removed]",
      "text/plain": [
       "<Figure size 432x288 with 1 Axes>"
      ]
     },
     "metadata": {
      "needs_background": "light"
     },
     "output_type": "display_data"
    }
   ],
   "source": [
    "learn_clas.freeze_to(-3)\n",
    "learn_clas.lr_find()\n",
    "learn_clas.recorder.plot(suggestion=True)"
   ]
  },
  {
   "cell_type": "code",
   "execution_count": 133,
   "metadata": {},
   "outputs": [
    {
     "data": {
      "text/html": [
       "<table border=\"1\" class=\"dataframe\">\n",
       "  <thead>\n",
       "    <tr style=\"text-align: left;\">\n",
       "      <th>epoch</th>\n",
       "      <th>train_loss</th>\n",
       "      <th>valid_loss</th>\n",
       "      <th>accuracy</th>\n",
       "      <th>time</th>\n",
       "    </tr>\n",
       "  </thead>\n",
       "  <tbody>\n",
       "    <tr>\n",
       "      <td>0</td>\n",
       "      <td>0.550386</td>\n",
       "      <td>0.541170</td>\n",
       "      <td>0.716551</td>\n",
       "      <td>00:07</td>\n",
       "    </tr>\n",
       "  </tbody>\n",
       "</table>"
      ],
      "text/plain": [
       "<IPython.core.display.HTML object>"
      ]
     },
     "metadata": {},
     "output_type": "display_data"
    }
   ],
   "source": [
    "learn_clas.fit_one_cycle(1, 7.59E-07, moms=moms)"
   ]
  },
  {
   "cell_type": "code",
   "execution_count": 134,
   "metadata": {},
   "outputs": [
    {
     "data": {
      "text/html": [
       "<table border=\"1\" class=\"dataframe\">\n",
       "  <thead>\n",
       "    <tr style=\"text-align: left;\">\n",
       "      <th>epoch</th>\n",
       "      <th>train_loss</th>\n",
       "      <th>valid_loss</th>\n",
       "      <th>accuracy</th>\n",
       "      <th>time</th>\n",
       "    </tr>\n",
       "  </thead>\n",
       "  <tbody>\n",
       "    <tr>\n",
       "      <td>0</td>\n",
       "      <td>0.494467</td>\n",
       "      <td>0.452476</td>\n",
       "      <td>0.774705</td>\n",
       "      <td>00:09</td>\n",
       "    </tr>\n",
       "  </tbody>\n",
       "</table>"
      ],
      "text/plain": [
       "<IPython.core.display.HTML object>"
      ]
     },
     "metadata": {},
     "output_type": "display_data"
    }
   ],
   "source": [
    "learn_clas.fit_one_cycle(1, 1e-3, moms=moms)"
   ]
  },
  {
   "cell_type": "code",
   "execution_count": 135,
   "metadata": {},
   "outputs": [],
   "source": [
    "learn_clas.save('frozen-to-3')"
   ]
  },
  {
   "cell_type": "code",
   "execution_count": 136,
   "metadata": {},
   "outputs": [
    {
     "data": {
      "text/html": [],
      "text/plain": [
       "<IPython.core.display.HTML object>"
      ]
     },
     "metadata": {},
     "output_type": "display_data"
    },
    {
     "name": "stdout",
     "output_type": "stream",
     "text": [
      "LR Finder is complete, type {learner_name}.recorder.plot() to see the graph.\n",
      "Min numerical gradient: 6.31E-07\n",
      "Min loss divided by 10: 5.25E-06\n"
     ]
    },
    {
     "data": {
      "image/png": "[encoded data removed]",
      "text/plain": [
       "<Figure size 432x288 with 1 Axes>"
      ]
     },
     "metadata": {
      "needs_background": "light"
     },
     "output_type": "display_data"
    }
   ],
   "source": [
    "learn_clas.unfreeze()\n",
    "learn_clas.lr_find()\n",
    "learn_clas.recorder.plot(suggestion=True)"
   ]
  },
  {
   "cell_type": "code",
   "execution_count": 138,
   "metadata": {},
   "outputs": [
    {
     "data": {
      "text/html": [
       "<table border=\"1\" class=\"dataframe\">\n",
       "  <thead>\n",
       "    <tr style=\"text-align: left;\">\n",
       "      <th>epoch</th>\n",
       "      <th>train_loss</th>\n",
       "      <th>valid_loss</th>\n",
       "      <th>accuracy</th>\n",
       "      <th>time</th>\n",
       "    </tr>\n",
       "  </thead>\n",
       "  <tbody>\n",
       "    <tr>\n",
       "      <td>0</td>\n",
       "      <td>0.446772</td>\n",
       "      <td>0.452418</td>\n",
       "      <td>0.774705</td>\n",
       "      <td>00:09</td>\n",
       "    </tr>\n",
       "    <tr>\n",
       "      <td>1</td>\n",
       "      <td>0.458021</td>\n",
       "      <td>0.451154</td>\n",
       "      <td>0.776332</td>\n",
       "      <td>00:11</td>\n",
       "    </tr>\n",
       "  </tbody>\n",
       "</table>"
      ],
      "text/plain": [
       "<IPython.core.display.HTML object>"
      ]
     },
     "metadata": {},
     "output_type": "display_data"
    }
   ],
   "source": [
    "learn_clas.fit_one_cycle(2, 1e-5, moms=moms)"
   ]
  },
  {
   "cell_type": "code",
   "execution_count": 139,
   "metadata": {},
   "outputs": [],
   "source": [
    "learn_clas.save('fine-tuned')"
   ]
  },
  {
   "cell_type": "code",
   "execution_count": 142,
   "metadata": {},
   "outputs": [],
   "source": [
    "import matplotlib.cm as cm"
   ]
  },
  {
   "cell_type": "code",
   "execution_count": 151,
   "metadata": {},
   "outputs": [
    {
     "name": "stdout",
     "output_type": "stream",
     "text": [
      "Loss: 0.45115354657173157, Accuracy: 77.63318634033203 %\n"
     ]
    }
   ],
   "source": [
    "loss, acc = learn_clas.validate()\n",
    "print(f'Loss: {loss}, Accuracy: {acc*100} %')"
   ]
  },
  {
   "cell_type": "code",
   "execution_count": 173,
   "metadata": {},
   "outputs": [
    {
     "data": {
      "text/html": [
       "<span style=\"font-family: monospace;\"><span title=\"0.073\" style=\"background-color: rgba(244, 243, 248, 0.5);\">xxbos</span> <span title=\"0.122\" style=\"background-color: rgba(239, 237, 245, 0.5);\">this</span> <span title=\"0.166\" style=\"background-color: rgba(232, 230, 241, 0.5);\">would</span> <span title=\"0.667\" style=\"background-color: rgba(120, 110, 178, 0.5);\">enable</span> <span title=\"0.226\" style=\"background-color: rgba(222, 222, 237, 0.5);\">the</span> <span title=\"0.672\" style=\"background-color: rgba(119, 107, 176, 0.5);\">working</span> <span title=\"0.371\" style=\"background-color: rgba(189, 190, 220, 0.5);\">poor</span> <span title=\"0.255\" style=\"background-color: rgba(216, 216, 234, 0.5);\">to</span> <span title=\"0.588\" style=\"background-color: rgba(136, 133, 190, 0.5);\">move</span> <span title=\"0.248\" style=\"background-color: rgba(218, 218, 235, 0.5);\">into</span> <span title=\"0.417\" style=\"background-color: rgba(178, 177, 213, 0.5);\">jobs</span> <span title=\"0.154\" style=\"background-color: rgba(234, 232, 242, 0.5);\">that</span> <span title=\"0.303\" style=\"background-color: rgba(205, 205, 228, 0.5);\">may</span> <span title=\"0.604\" style=\"background-color: rgba(133, 129, 188, 0.5);\">begin</span> <span title=\"0.267\" style=\"background-color: rgba(214, 214, 233, 0.5);\">by</span> <span title=\"1.000\" style=\"background-color: rgba(63, 0, 125, 0.5);\">paying</span> <span title=\"0.323\" style=\"background-color: rgba(200, 201, 226, 0.5);\">a</span> <span title=\"0.754\" style=\"background-color: rgba(105, 80, 162, 0.5);\">little</span> <span title=\"0.232\" style=\"background-color: rgba(221, 220, 236, 0.5);\">less</span> <span title=\"0.161\" style=\"background-color: rgba(232, 231, 242, 0.5);\">but</span> <span title=\"0.231\" style=\"background-color: rgba(221, 220, 236, 0.5);\">have</span> <span title=\"0.444\" style=\"background-color: rgba(171, 169, 209, 0.5);\">greater</span> <span title=\"0.484\" style=\"background-color: rgba(162, 158, 202, 0.5);\">opportunities</span> <span title=\"0.180\" style=\"background-color: rgba(229, 228, 240, 0.5);\">for</span> <span title=\"0.407\" style=\"background-color: rgba(180, 179, 214, 0.5);\">wage</span> <span title=\"0.185\" style=\"background-color: rgba(229, 227, 240, 0.5);\">growth</span> <span title=\"0.049\" style=\"background-color: rgba(247, 245, 249, 0.5);\">and</span> <span title=\"0.134\" style=\"background-color: rgba(237, 235, 244, 0.5);\">economic</span> <span title=\"0.147\" style=\"background-color: rgba(235, 233, 243, 0.5);\">stability</span> <span title=\"0.130\" style=\"background-color: rgba(238, 236, 244, 0.5);\">down</span> <span title=\"0.061\" style=\"background-color: rgba(245, 244, 249, 0.5);\">the</span> <span title=\"0.235\" style=\"background-color: rgba(220, 220, 236, 0.5);\">road</span> <span title=\"0.102\" style=\"background-color: rgba(241, 239, 246, 0.5);\">.</span></span>"
      ],
      "text/plain": [
       "<IPython.core.display.HTML object>"
      ]
     },
     "metadata": {},
     "output_type": "display_data"
    },
    {
     "data": {
      "text/plain": [
       "(Category 1, tensor(1), tensor([0.2486, 0.7514]))"
      ]
     },
     "execution_count": 173,
     "metadata": {},
     "output_type": "execute_result"
    }
   ],
   "source": [
    "txt_ci = TextClassificationInterpretation.from_learner(learn_clas)\n",
    "test_text = \"this would enable the working poor to move into jobs that may begin by paying a little less but have greater opportunities for wage growth and economic stability down the road .\"\n",
    "txt_ci.show_intrinsic_attention(test_text, cmap=cm.Purples)\n",
    "learn_clas.predict(test_text)"
   ]
  },
  {
   "cell_type": "code",
   "execution_count": 188,
   "metadata": {},
   "outputs": [
    {
     "data": {
      "text/html": [
       "<div>\n",
       "<style scoped>\n",
       "    .dataframe tbody tr th:only-of-type {\n",
       "        vertical-align: middle;\n",
       "    }\n",
       "\n",
       "    .dataframe tbody tr th {\n",
       "        vertical-align: top;\n",
       "    }\n",
       "\n",
       "    .dataframe thead th {\n",
       "        text-align: right;\n",
       "    }\n",
       "</style>\n",
       "<table border=\"1\" class=\"dataframe\">\n",
       "  <thead>\n",
       "    <tr style=\"text-align: right;\">\n",
       "      <th></th>\n",
       "      <th>text</th>\n",
       "      <th>label</th>\n",
       "    </tr>\n",
       "  </thead>\n",
       "  <tbody>\n",
       "    <tr>\n",
       "      <th>8141</th>\n",
       "      <td>genuine free trade ( that is , mutually benefi...</td>\n",
       "      <td>0</td>\n",
       "    </tr>\n",
       "    <tr>\n",
       "      <th>9605</th>\n",
       "      <td>performed for health reasons are sinful ( this...</td>\n",
       "      <td>0</td>\n",
       "    </tr>\n",
       "    <tr>\n",
       "      <th>10247</th>\n",
       "      <td>We have been generally supportive of the effor...</td>\n",
       "      <td>0</td>\n",
       "    </tr>\n",
       "    <tr>\n",
       "      <th>9421</th>\n",
       "      <td>ironic assessment , given that the Change to W...</td>\n",
       "      <td>0</td>\n",
       "    </tr>\n",
       "    <tr>\n",
       "      <th>1456</th>\n",
       "      <td>More troublesome , because it 's more recent t...</td>\n",
       "      <td>1</td>\n",
       "    </tr>\n",
       "  </tbody>\n",
       "</table>\n",
       "</div>"
      ],
      "text/plain": [
       "                                                    text label\n",
       "8141   genuine free trade ( that is , mutually benefi...     0\n",
       "9605   performed for health reasons are sinful ( this...     0\n",
       "10247  We have been generally supportive of the effor...     0\n",
       "9421   ironic assessment , given that the Change to W...     0\n",
       "1456   More troublesome , because it 's more recent t...     1"
      ]
     },
     "execution_count": 188,
     "metadata": {},
     "output_type": "execute_result"
    }
   ],
   "source": [
    "master_test.head()"
   ]
  },
  {
   "cell_type": "code",
   "execution_count": 190,
   "metadata": {},
   "outputs": [
    {
     "data": {
      "text/html": [
       "<div>\n",
       "<style scoped>\n",
       "    .dataframe tbody tr th:only-of-type {\n",
       "        vertical-align: middle;\n",
       "    }\n",
       "\n",
       "    .dataframe tbody tr th {\n",
       "        vertical-align: top;\n",
       "    }\n",
       "\n",
       "    .dataframe thead th {\n",
       "        text-align: right;\n",
       "    }\n",
       "</style>\n",
       "<table border=\"1\" class=\"dataframe\">\n",
       "  <thead>\n",
       "    <tr style=\"text-align: right;\">\n",
       "      <th></th>\n",
       "      <th>text</th>\n",
       "      <th>label</th>\n",
       "    </tr>\n",
       "  </thead>\n",
       "  <tbody>\n",
       "    <tr>\n",
       "      <th>7579</th>\n",
       "      <td>were entitled to restitution , including advan...</td>\n",
       "      <td>1</td>\n",
       "    </tr>\n",
       "    <tr>\n",
       "      <th>5843</th>\n",
       "      <td>If the intellectual commissars of the oppositi...</td>\n",
       "      <td>1</td>\n",
       "    </tr>\n",
       "    <tr>\n",
       "      <th>8967</th>\n",
       "      <td>is unknown as of yet : `` The rates of payment...</td>\n",
       "      <td>0</td>\n",
       "    </tr>\n",
       "    <tr>\n",
       "      <th>7427</th>\n",
       "      <td>a lot of creative people</td>\n",
       "      <td>0</td>\n",
       "    </tr>\n",
       "    <tr>\n",
       "      <th>2419</th>\n",
       "      <td>convict terrorist suspects , which leads to th...</td>\n",
       "      <td>1</td>\n",
       "    </tr>\n",
       "    <tr>\n",
       "      <th>8887</th>\n",
       "      <td>Within a very few years , unfunded liabilities...</td>\n",
       "      <td>0</td>\n",
       "    </tr>\n",
       "    <tr>\n",
       "      <th>4009</th>\n",
       "      <td>good citizens ( helping that straight man push...</td>\n",
       "      <td>1</td>\n",
       "    </tr>\n",
       "    <tr>\n",
       "      <th>10806</th>\n",
       "      <td>has been visiting India for forty years , doin...</td>\n",
       "      <td>0</td>\n",
       "    </tr>\n",
       "    <tr>\n",
       "      <th>1117</th>\n",
       "      <td>many of the practices intended to increase und...</td>\n",
       "      <td>1</td>\n",
       "    </tr>\n",
       "    <tr>\n",
       "      <th>2809</th>\n",
       "      <td>ease the impact on workers if the auction of p...</td>\n",
       "      <td>1</td>\n",
       "    </tr>\n",
       "  </tbody>\n",
       "</table>\n",
       "</div>"
      ],
      "text/plain": [
       "                                                    text label\n",
       "7579   were entitled to restitution , including advan...     1\n",
       "5843   If the intellectual commissars of the oppositi...     1\n",
       "8967   is unknown as of yet : `` The rates of payment...     0\n",
       "7427                            a lot of creative people     0\n",
       "2419   convict terrorist suspects , which leads to th...     1\n",
       "8887   Within a very few years , unfunded liabilities...     0\n",
       "4009   good citizens ( helping that straight man push...     1\n",
       "10806  has been visiting India for forty years , doin...     0\n",
       "1117   many of the practices intended to increase und...     1\n",
       "2809   ease the impact on workers if the auction of p...     1"
      ]
     },
     "execution_count": 190,
     "metadata": {},
     "output_type": "execute_result"
    }
   ],
   "source": [
    "master_test.sample(10)"
   ]
  },
  {
   "cell_type": "code",
   "execution_count": 227,
   "metadata": {},
   "outputs": [],
   "source": [
    "afs = pd.DataFrame(columns = ['text', 'label'])"
   ]
  },
  {
   "cell_type": "code",
   "execution_count": 228,
   "metadata": {},
   "outputs": [],
   "source": [
    "for i in lib : \n",
    "    afs.loc[len(afs)] = [i.get_words(), 1]"
   ]
  },
  {
   "cell_type": "code",
   "execution_count": 230,
   "metadata": {},
   "outputs": [],
   "source": [
    "for i in con :\n",
    "    afs.loc[len(afs)] = [i.get_words(), 0]"
   ]
  },
  {
   "cell_type": "code",
   "execution_count": 231,
   "metadata": {},
   "outputs": [],
   "source": [
    "fs_test = pd.DataFrame(columns = ['text', 'label'])"
   ]
  },
  {
   "cell_type": "code",
   "execution_count": 233,
   "metadata": {},
   "outputs": [
    {
     "data": {
      "text/html": [
       "<div>\n",
       "<style scoped>\n",
       "    .dataframe tbody tr th:only-of-type {\n",
       "        vertical-align: middle;\n",
       "    }\n",
       "\n",
       "    .dataframe tbody tr th {\n",
       "        vertical-align: top;\n",
       "    }\n",
       "\n",
       "    .dataframe thead th {\n",
       "        text-align: right;\n",
       "    }\n",
       "</style>\n",
       "<table border=\"1\" class=\"dataframe\">\n",
       "  <thead>\n",
       "    <tr style=\"text-align: right;\">\n",
       "      <th></th>\n",
       "      <th>text</th>\n",
       "      <th>label</th>\n",
       "    </tr>\n",
       "  </thead>\n",
       "  <tbody>\n",
       "    <tr>\n",
       "      <th>8141</th>\n",
       "      <td>genuine free trade ( that is , mutually benefi...</td>\n",
       "      <td>0</td>\n",
       "    </tr>\n",
       "    <tr>\n",
       "      <th>9605</th>\n",
       "      <td>performed for health reasons are sinful ( this...</td>\n",
       "      <td>0</td>\n",
       "    </tr>\n",
       "    <tr>\n",
       "      <th>10247</th>\n",
       "      <td>We have been generally supportive of the effor...</td>\n",
       "      <td>0</td>\n",
       "    </tr>\n",
       "    <tr>\n",
       "      <th>9421</th>\n",
       "      <td>ironic assessment , given that the Change to W...</td>\n",
       "      <td>0</td>\n",
       "    </tr>\n",
       "    <tr>\n",
       "      <th>1456</th>\n",
       "      <td>More troublesome , because it 's more recent t...</td>\n",
       "      <td>1</td>\n",
       "    </tr>\n",
       "  </tbody>\n",
       "</table>\n",
       "</div>"
      ],
      "text/plain": [
       "                                                    text label\n",
       "8141   genuine free trade ( that is , mutually benefi...     0\n",
       "9605   performed for health reasons are sinful ( this...     0\n",
       "10247  We have been generally supportive of the effor...     0\n",
       "9421   ironic assessment , given that the Change to W...     0\n",
       "1456   More troublesome , because it 's more recent t...     1"
      ]
     },
     "execution_count": 233,
     "metadata": {},
     "output_type": "execute_result"
    }
   ],
   "source": [
    "master_test.head()"
   ]
  },
  {
   "cell_type": "code",
   "execution_count": 237,
   "metadata": {},
   "outputs": [],
   "source": [
    "for i in range(len(master_test)) :\n",
    "    row = master_test.iloc[i]\n",
    "    if row['text'] in afs['text'].values :\n",
    "        fs_test = fs_test.append(row)"
   ]
  },
  {
   "cell_type": "code",
   "execution_count": 240,
   "metadata": {},
   "outputs": [
    {
     "data": {
      "text/plain": [
       "682"
      ]
     },
     "execution_count": 240,
     "metadata": {},
     "output_type": "execute_result"
    }
   ],
   "source": [
    "len(fs_test)"
   ]
  },
  {
   "cell_type": "code",
   "execution_count": 241,
   "metadata": {},
   "outputs": [],
   "source": [
    "fs_test_db = (TextList.from_df(fs_test, cols='text', vocab=data_lm.vocab)\n",
    "            .split_none()\n",
    "            .label_from_df(cols=1)\n",
    "            .databunch(bs=32))"
   ]
  },
  {
   "cell_type": "code",
   "execution_count": 242,
   "metadata": {},
   "outputs": [
    {
     "data": {
      "text/html": [
       "<table border=\"1\" class=\"dataframe\">\n",
       "  <thead>\n",
       "    <tr style=\"text-align: right;\">\n",
       "      <th>text</th>\n",
       "      <th>target</th>\n",
       "    </tr>\n",
       "  </thead>\n",
       "  <tbody>\n",
       "    <tr>\n",
       "      <td>xxbos xxmaj in an internal study , the xxmaj pentagon 's xxmaj southern xxmaj xxunk , responsible for xxmaj xxunk xxmaj america , xxunk that the rise of state - dominated companies could threaten xxup u.s. access to xxmaj south xxmaj american oil ; xxmaj xxunk , for instance , is xxmaj america 's fourth - biggest oil xxunk , and president xxmaj xxunk xxmaj chavez could damage the xxup</td>\n",
       "      <td>0</td>\n",
       "    </tr>\n",
       "    <tr>\n",
       "      <td>xxbos xxmaj three years ago , xxmaj xxunk xxmaj xxunk published xxmaj murder in xxmaj amsterdam : xxmaj the xxmaj death of xxmaj theo xxmaj van xxmaj gogh and the xxmaj limits of xxmaj tolerance , an analysis of the shocking public slaying by an xxmaj xxunk extremist of a xxmaj dutch filmmaker who , working with xxmaj xxunk xxmaj xxunk xxmaj xxunk , self - declared atheist and xxunk</td>\n",
       "      <td>1</td>\n",
       "    </tr>\n",
       "    <tr>\n",
       "      <td>xxbos xxmaj according to its leaders , as well as its many advocates in the press , xxunk , and the xxmaj united xxmaj nations , xxmaj hezbollah ( in xxmaj xxunk , the xxmaj party of xxmaj god -- sometimes xxunk xxmaj xxunk or xxmaj xxunk ` xxmaj xxunk ) is not a terrorist group at all , but instead a social welfare , charitable organization , providing food</td>\n",
       "      <td>0</td>\n",
       "    </tr>\n",
       "    <tr>\n",
       "      <td>xxbos xxmaj in response , a conservative state senator named xxmaj xxunk xxmaj xxunk xxmaj jr. , who 'd made a name for himself by defending public display of the xxmaj xxunk xxunk and mocking his opponents as the `` xxmaj national xxmaj association of xxmaj xxunk xxmaj people , '' pushed through legislation that made the school board election partisan , thus xxunk a primary process that ensured a</td>\n",
       "      <td>1</td>\n",
       "    </tr>\n",
       "    <tr>\n",
       "      <td>xxbos xxup xxunk : `` xxmaj if nothing else , '' reported the xxmaj christian xxmaj science xxmaj monitor for xxmaj december 27 , 2005 , `` xxmaj washington 's tortured , xxunk budget debate shows that cutting federal spending may be even more difficult today than it used to be ... xxmaj as defense and entitlement spending has grown , most everything else that the xxup us government does</td>\n",
       "      <td>0</td>\n",
       "    </tr>\n",
       "  </tbody>\n",
       "</table>"
      ],
      "text/plain": [
       "<IPython.core.display.HTML object>"
      ]
     },
     "metadata": {},
     "output_type": "display_data"
    }
   ],
   "source": [
    "fs_test_db.show_batch()"
   ]
  },
  {
   "cell_type": "code",
   "execution_count": 245,
   "metadata": {},
   "outputs": [
    {
     "name": "stdout",
     "output_type": "stream",
     "text": [
      "Loss: 0.5532426238059998, Accuracy: 70.08928680419922 %\n"
     ]
    }
   ],
   "source": [
    "loss, acc = learn_clas.validate(dl=fs_test_db.train_dl)\n",
    "print(f'Loss: {loss}, Accuracy: {acc*100} %')"
   ]
  },
  {
   "cell_type": "code",
   "execution_count": 246,
   "metadata": {},
   "outputs": [
    {
     "data": {
      "text/html": [],
      "text/plain": [
       "<IPython.core.display.HTML object>"
      ]
     },
     "metadata": {},
     "output_type": "display_data"
    },
    {
     "name": "stdout",
     "output_type": "stream",
     "text": [
      "LR Finder is complete, type {learner_name}.recorder.plot() to see the graph.\n"
     ]
    }
   ],
   "source": [
    "learn_clas.lr_find()"
   ]
  },
  {
   "cell_type": "code",
   "execution_count": 247,
   "metadata": {},
   "outputs": [
    {
     "data": {
      "image/png": "[encoded data removed]",
      "text/plain": [
       "<Figure size 432x288 with 1 Axes>"
      ]
     },
     "metadata": {
      "needs_background": "light"
     },
     "output_type": "display_data"
    }
   ],
   "source": [
    "learn_clas.recorder.plot()"
   ]
  },
  {
   "cell_type": "code",
   "execution_count": 248,
   "metadata": {},
   "outputs": [
    {
     "data": {
      "text/html": [
       "<table border=\"1\" class=\"dataframe\">\n",
       "  <thead>\n",
       "    <tr style=\"text-align: left;\">\n",
       "      <th>epoch</th>\n",
       "      <th>train_loss</th>\n",
       "      <th>valid_loss</th>\n",
       "      <th>accuracy</th>\n",
       "      <th>time</th>\n",
       "    </tr>\n",
       "  </thead>\n",
       "  <tbody>\n",
       "    <tr>\n",
       "      <td>0</td>\n",
       "      <td>0.400316</td>\n",
       "      <td>0.365152</td>\n",
       "      <td>0.830419</td>\n",
       "      <td>00:10</td>\n",
       "    </tr>\n",
       "    <tr>\n",
       "      <td>1</td>\n",
       "      <td>0.301353</td>\n",
       "      <td>0.338314</td>\n",
       "      <td>0.850752</td>\n",
       "      <td>00:09</td>\n",
       "    </tr>\n",
       "  </tbody>\n",
       "</table>"
      ],
      "text/plain": [
       "<IPython.core.display.HTML object>"
      ]
     },
     "metadata": {},
     "output_type": "display_data"
    }
   ],
   "source": [
    "learn_clas.fit_one_cycle(2, 1e-3, moms=moms)"
   ]
  },
  {
   "cell_type": "code",
   "execution_count": null,
   "metadata": {
    "scrolled": false
   },
   "outputs": [],
   "source": [
    "learn_clas.lr_find()\n",
    "learn_clas.recorder.plot()"
   ]
  },
  {
   "cell_type": "code",
   "execution_count": 250,
   "metadata": {},
   "outputs": [
    {
     "data": {
      "image/png": "[encoded data removed]",
      "text/plain": [
       "<Figure size 432x288 with 1 Axes>"
      ]
     },
     "metadata": {
      "needs_background": "light"
     },
     "output_type": "display_data"
    }
   ],
   "source": [
    "learn_clas.recorder.plot()"
   ]
  },
  {
   "cell_type": "code",
   "execution_count": 251,
   "metadata": {},
   "outputs": [
    {
     "data": {
      "text/html": [
       "<table border=\"1\" class=\"dataframe\">\n",
       "  <thead>\n",
       "    <tr style=\"text-align: left;\">\n",
       "      <th>epoch</th>\n",
       "      <th>train_loss</th>\n",
       "      <th>valid_loss</th>\n",
       "      <th>accuracy</th>\n",
       "      <th>time</th>\n",
       "    </tr>\n",
       "  </thead>\n",
       "  <tbody>\n",
       "    <tr>\n",
       "      <td>0</td>\n",
       "      <td>0.356918</td>\n",
       "      <td>0.343782</td>\n",
       "      <td>0.850346</td>\n",
       "      <td>00:10</td>\n",
       "    </tr>\n",
       "    <tr>\n",
       "      <td>1</td>\n",
       "      <td>0.233832</td>\n",
       "      <td>0.300466</td>\n",
       "      <td>0.878813</td>\n",
       "      <td>00:11</td>\n",
       "    </tr>\n",
       "  </tbody>\n",
       "</table>"
      ],
      "text/plain": [
       "<IPython.core.display.HTML object>"
      ]
     },
     "metadata": {},
     "output_type": "display_data"
    }
   ],
   "source": [
    "learn_clas.fit_one_cycle(2, 4e-3, moms=moms)"
   ]
  },
  {
   "cell_type": "code",
   "execution_count": 252,
   "metadata": {},
   "outputs": [],
   "source": [
    "learn_clas.save('more-fine-tuned')"
   ]
  },
  {
   "cell_type": "code",
   "execution_count": 253,
   "metadata": {},
   "outputs": [
    {
     "data": {
      "text/html": [],
      "text/plain": [
       "<IPython.core.display.HTML object>"
      ]
     },
     "metadata": {},
     "output_type": "display_data"
    },
    {
     "name": "stdout",
     "output_type": "stream",
     "text": [
      "LR Finder is complete, type {learner_name}.recorder.plot() to see the graph.\n"
     ]
    },
    {
     "data": {
      "image/png": "[encoded data removed]",
      "text/plain": [
       "<Figure size 432x288 with 1 Axes>"
      ]
     },
     "metadata": {
      "needs_background": "light"
     },
     "output_type": "display_data"
    }
   ],
   "source": [
    "learn_clas.lr_find()\n",
    "learn_clas.recorder.plot()"
   ]
  },
  {
   "cell_type": "code",
   "execution_count": 254,
   "metadata": {},
   "outputs": [
    {
     "data": {
      "text/html": [
       "<table border=\"1\" class=\"dataframe\">\n",
       "  <thead>\n",
       "    <tr style=\"text-align: left;\">\n",
       "      <th>epoch</th>\n",
       "      <th>train_loss</th>\n",
       "      <th>valid_loss</th>\n",
       "      <th>accuracy</th>\n",
       "      <th>time</th>\n",
       "    </tr>\n",
       "  </thead>\n",
       "  <tbody>\n",
       "    <tr>\n",
       "      <td>0</td>\n",
       "      <td>0.245052</td>\n",
       "      <td>0.315055</td>\n",
       "      <td>0.880033</td>\n",
       "      <td>00:09</td>\n",
       "    </tr>\n",
       "    <tr>\n",
       "      <td>1</td>\n",
       "      <td>0.161336</td>\n",
       "      <td>0.319896</td>\n",
       "      <td>0.888573</td>\n",
       "      <td>00:10</td>\n",
       "    </tr>\n",
       "  </tbody>\n",
       "</table>"
      ],
      "text/plain": [
       "<IPython.core.display.HTML object>"
      ]
     },
     "metadata": {},
     "output_type": "display_data"
    }
   ],
   "source": [
    "learn_clas.fit_one_cycle(2, 3e-3, moms=moms)"
   ]
  },
  {
   "cell_type": "code",
   "execution_count": 255,
   "metadata": {},
   "outputs": [
    {
     "data": {
      "text/html": [],
      "text/plain": [
       "<IPython.core.display.HTML object>"
      ]
     },
     "metadata": {},
     "output_type": "display_data"
    },
    {
     "name": "stdout",
     "output_type": "stream",
     "text": [
      "LR Finder is complete, type {learner_name}.recorder.plot() to see the graph.\n"
     ]
    },
    {
     "data": {
      "image/png": "[encoded data removed]",
      "text/plain": [
       "<Figure size 432x288 with 1 Axes>"
      ]
     },
     "metadata": {
      "needs_background": "light"
     },
     "output_type": "display_data"
    }
   ],
   "source": [
    "learn_clas.save('more-fine-tuned-2')\n",
    "learn_clas.lr_find()\n",
    "learn_clas.recorder.plot()"
   ]
  },
  {
   "cell_type": "code",
   "execution_count": 256,
   "metadata": {},
   "outputs": [
    {
     "data": {
      "text/html": [
       "<table border=\"1\" class=\"dataframe\">\n",
       "  <thead>\n",
       "    <tr style=\"text-align: left;\">\n",
       "      <th>epoch</th>\n",
       "      <th>train_loss</th>\n",
       "      <th>valid_loss</th>\n",
       "      <th>accuracy</th>\n",
       "      <th>time</th>\n",
       "    </tr>\n",
       "  </thead>\n",
       "  <tbody>\n",
       "    <tr>\n",
       "      <td>0</td>\n",
       "      <td>0.309450</td>\n",
       "      <td>0.327223</td>\n",
       "      <td>0.867426</td>\n",
       "      <td>00:11</td>\n",
       "    </tr>\n",
       "    <tr>\n",
       "      <td>1</td>\n",
       "      <td>0.195878</td>\n",
       "      <td>0.302358</td>\n",
       "      <td>0.884506</td>\n",
       "      <td>00:09</td>\n",
       "    </tr>\n",
       "  </tbody>\n",
       "</table>"
      ],
      "text/plain": [
       "<IPython.core.display.HTML object>"
      ]
     },
     "metadata": {},
     "output_type": "display_data"
    }
   ],
   "source": [
    "learn_clas.fit_one_cycle(2, 6e-3, moms=moms)"
   ]
  },
  {
   "cell_type": "code",
   "execution_count": 257,
   "metadata": {},
   "outputs": [
    {
     "data": {
      "text/plain": [
       "RNNLearner(data=TextClasDataBunch;\n",
       "\n",
       "Train: LabelList (9832 items)\n",
       "x: TextList\n",
       "xxbos caused the xxmaj united xxmaj states to send trillions of dollars to overseas oil producers and have jeopardized our national security by making us dangerously dependent on foreign energy sources,xxbos reducing the xxmaj north 's overconsumption , respecting indigenous and forest peoples ' rights and , notably , reparations for the ecological and climate debts owed by the richest countries to those who are most affected by resource extraction and climate - related disasters,xxbos created a fantastic opportunity for moochers to profit from government - backed loans,xxbos the voices and lives of middle - and lower - class working women,xxbos xxmaj that is why it is critical for progressives to support an intellectual community in studying the long - term consequences of income inequality , the relationship between equity and growth , and how different kinds of public investments affect the labor market .\n",
       "y: CategoryList\n",
       "1,1,0,1,1\n",
       "Path: .;\n",
       "\n",
       "Valid: LabelList (2459 items)\n",
       "x: TextList\n",
       "xxbos genuine free trade ( that is , mutually beneficial transactions between producers and consumers without government intervention ),xxbos performed for health reasons are sinful ( this is as true for xxmaj orthodox xxmaj jews as for traditional xxmaj christians ) , in a xxmaj god who transcends nature , in objective good and evil , in reward and punishment in an afterlife , and much more that is contrary to xxmaj leftism,xxbos xxmaj we have been generally supportive of the efforts by the xxunk , xxunk by xxmaj arizona , to draw attention to the federal government 's refusal to secure our borders and to xxunk the federal government to enforce our immigration laws ; however , `` solutions '' that undermine our liberties are not genuine solutions .,xxbos ironic assessment , given that the xxmaj change to xxmaj win unions had criticized the xxup afl - xxup cio for stressing politics over organizing,xxbos xxmaj more xxunk , because it 's more recent than a xxunk - old book , is xxmaj xxunk 's involvement in `` xxmaj climategate , '' the deliberate manipulation of scientific data , the stonewalling of xxmaj freedom of xxmaj information requests , and the overall propaganda efforts of scientists charged with studying the causes and effects of climate change .\n",
       "y: CategoryList\n",
       "0,0,0,0,1\n",
       "Path: .;\n",
       "\n",
       "Test: None, model=SequentialRNN(\n",
       "  (0): MultiBatchEncoder(\n",
       "    (module): AWD_LSTM(\n",
       "      (encoder): Embedding(9456, 400, padding_idx=1)\n",
       "      (encoder_dp): EmbeddingDropout(\n",
       "        (emb): Embedding(9456, 400, padding_idx=1)\n",
       "      )\n",
       "      (rnns): ModuleList(\n",
       "        (0): WeightDropout(\n",
       "          (module): LSTM(400, 1152, batch_first=True)\n",
       "        )\n",
       "        (1): WeightDropout(\n",
       "          (module): LSTM(1152, 1152, batch_first=True)\n",
       "        )\n",
       "        (2): WeightDropout(\n",
       "          (module): LSTM(1152, 400, batch_first=True)\n",
       "        )\n",
       "      )\n",
       "      (input_dp): RNNDropout()\n",
       "      (hidden_dps): ModuleList(\n",
       "        (0): RNNDropout()\n",
       "        (1): RNNDropout()\n",
       "        (2): RNNDropout()\n",
       "      )\n",
       "    )\n",
       "  )\n",
       "  (1): PoolingLinearClassifier(\n",
       "    (layers): Sequential(\n",
       "      (0): BatchNorm1d(1200, eps=1e-05, momentum=0.1, affine=True, track_running_stats=True)\n",
       "      (1): Dropout(p=0.2)\n",
       "      (2): Linear(in_features=1200, out_features=50, bias=True)\n",
       "      (3): ReLU(inplace)\n",
       "      (4): BatchNorm1d(50, eps=1e-05, momentum=0.1, affine=True, track_running_stats=True)\n",
       "      (5): Dropout(p=0.1)\n",
       "      (6): Linear(in_features=50, out_features=2, bias=True)\n",
       "    )\n",
       "  )\n",
       "), opt_func=functools.partial(<class 'torch.optim.adam.Adam'>, betas=(0.9, 0.99)), loss_func=FlattenedLoss of CrossEntropyLoss(), metrics=[<function accuracy at 0x7f490a7cb840>], true_wd=True, bn_wd=True, wd=0.01, train_bn=True, path=PosixPath('.'), model_dir='models', callback_fns=[functools.partial(<class 'fastai.basic_train.Recorder'>, add_time=True, silent=False)], callbacks=[RNNTrainer\n",
       "learn: ...\n",
       "alpha: 2.0\n",
       "beta: 1.0], layer_groups=[Sequential(\n",
       "  (0): Embedding(9456, 400, padding_idx=1)\n",
       "  (1): EmbeddingDropout(\n",
       "    (emb): Embedding(9456, 400, padding_idx=1)\n",
       "  )\n",
       "), Sequential(\n",
       "  (0): WeightDropout(\n",
       "    (module): LSTM(400, 1152, batch_first=True)\n",
       "  )\n",
       "  (1): RNNDropout()\n",
       "), Sequential(\n",
       "  (0): WeightDropout(\n",
       "    (module): LSTM(1152, 1152, batch_first=True)\n",
       "  )\n",
       "  (1): RNNDropout()\n",
       "), Sequential(\n",
       "  (0): WeightDropout(\n",
       "    (module): LSTM(1152, 400, batch_first=True)\n",
       "  )\n",
       "  (1): RNNDropout()\n",
       "), Sequential(\n",
       "  (0): PoolingLinearClassifier(\n",
       "    (layers): Sequential(\n",
       "      (0): BatchNorm1d(1200, eps=1e-05, momentum=0.1, affine=True, track_running_stats=True)\n",
       "      (1): Dropout(p=0.2)\n",
       "      (2): Linear(in_features=1200, out_features=50, bias=True)\n",
       "      (3): ReLU(inplace)\n",
       "      (4): BatchNorm1d(50, eps=1e-05, momentum=0.1, affine=True, track_running_stats=True)\n",
       "      (5): Dropout(p=0.1)\n",
       "      (6): Linear(in_features=50, out_features=2, bias=True)\n",
       "    )\n",
       "  )\n",
       ")], add_time=True, silent=None)"
      ]
     },
     "execution_count": 257,
     "metadata": {},
     "output_type": "execute_result"
    }
   ],
   "source": [
    "learn_clas.load('more-fine-tuned-2')"
   ]
  },
  {
   "cell_type": "code",
   "execution_count": 258,
   "metadata": {},
   "outputs": [
    {
     "name": "stdout",
     "output_type": "stream",
     "text": [
      "Loss: 0.5078629851341248, Accuracy: 80.5059585571289 %\n"
     ]
    }
   ],
   "source": [
    "loss, acc = learn_clas.validate(fs_test_db.train_dl)\n",
    "print(f'Loss: {loss}, Accuracy: {acc*100} %')"
   ]
  },
  {
   "cell_type": "code",
   "execution_count": 259,
   "metadata": {},
   "outputs": [
    {
     "data": {
      "text/html": [
       "<span style=\"font-family: monospace;\"><span title=\"0.063\" style=\"background-color: rgba(245, 243, 248, 0.5);\">xxbos</span> <span title=\"0.136\" style=\"background-color: rgba(237, 235, 244, 0.5);\">this</span> <span title=\"0.216\" style=\"background-color: rgba(223, 223, 237, 0.5);\">would</span> <span title=\"0.595\" style=\"background-color: rgba(134, 131, 189, 0.5);\">enable</span> <span title=\"0.251\" style=\"background-color: rgba(217, 217, 234, 0.5);\">the</span> <span title=\"0.669\" style=\"background-color: rgba(119, 108, 177, 0.5);\">working</span> <span title=\"0.640\" style=\"background-color: rgba(125, 119, 183, 0.5);\">poor</span> <span title=\"0.181\" style=\"background-color: rgba(229, 228, 240, 0.5);\">to</span> <span title=\"0.497\" style=\"background-color: rgba(158, 154, 200, 0.5);\">move</span> <span title=\"0.340\" style=\"background-color: rgba(196, 196, 224, 0.5);\">into</span> <span title=\"0.484\" style=\"background-color: rgba(162, 158, 202, 0.5);\">jobs</span> <span title=\"0.191\" style=\"background-color: rgba(228, 227, 239, 0.5);\">that</span> <span title=\"0.287\" style=\"background-color: rgba(209, 209, 230, 0.5);\">may</span> <span title=\"0.464\" style=\"background-color: rgba(166, 164, 205, 0.5);\">begin</span> <span title=\"0.204\" style=\"background-color: rgba(225, 225, 238, 0.5);\">by</span> <span title=\"0.643\" style=\"background-color: rgba(124, 118, 182, 0.5);\">paying</span> <span title=\"0.250\" style=\"background-color: rgba(217, 217, 234, 0.5);\">a</span> <span title=\"0.410\" style=\"background-color: rgba(180, 179, 214, 0.5);\">little</span> <span title=\"0.331\" style=\"background-color: rgba(198, 199, 225, 0.5);\">less</span> <span title=\"0.246\" style=\"background-color: rgba(219, 219, 235, 0.5);\">but</span> <span title=\"0.361\" style=\"background-color: rgba(191, 192, 221, 0.5);\">have</span> <span title=\"0.845\" style=\"background-color: rgba(88, 48, 147, 0.5);\">greater</span> <span title=\"1.000\" style=\"background-color: rgba(63, 0, 125, 0.5);\">opportunities</span> <span title=\"0.343\" style=\"background-color: rgba(196, 196, 224, 0.5);\">for</span> <span title=\"0.976\" style=\"background-color: rgba(66, 7, 128, 0.5);\">wage</span> <span title=\"0.313\" style=\"background-color: rgba(202, 203, 227, 0.5);\">growth</span> <span title=\"0.077\" style=\"background-color: rgba(244, 242, 248, 0.5);\">and</span> <span title=\"0.179\" style=\"background-color: rgba(230, 229, 240, 0.5);\">economic</span> <span title=\"0.174\" style=\"background-color: rgba(231, 229, 241, 0.5);\">stability</span> <span title=\"0.098\" style=\"background-color: rgba(241, 240, 246, 0.5);\">down</span> <span title=\"0.097\" style=\"background-color: rgba(242, 240, 246, 0.5);\">the</span> <span title=\"0.169\" style=\"background-color: rgba(231, 230, 241, 0.5);\">road</span> <span title=\"0.073\" style=\"background-color: rgba(244, 243, 248, 0.5);\">.</span></span>"
      ],
      "text/plain": [
       "<IPython.core.display.HTML object>"
      ]
     },
     "metadata": {},
     "output_type": "display_data"
    },
    {
     "data": {
      "text/plain": [
       "(Category 1, tensor(1), tensor([0.1352, 0.8648]))"
      ]
     },
     "execution_count": 259,
     "metadata": {},
     "output_type": "execute_result"
    }
   ],
   "source": [
    "txt_ci = TextClassificationInterpretation.from_learner(learn_clas)\n",
    "test_text = \"this would enable the working poor to move into jobs that may begin by paying a little less but have greater opportunities for wage growth and economic stability down the road .\"\n",
    "txt_ci.show_intrinsic_attention(test_text, cmap=cm.Purples)\n",
    "learn_clas.predict(test_text)"
   ]
  },
  {
   "cell_type": "code",
   "execution_count": 261,
   "metadata": {},
   "outputs": [
    {
     "data": {
      "text/plain": [
       "682"
      ]
     },
     "execution_count": 261,
     "metadata": {},
     "output_type": "execute_result"
    }
   ],
   "source": [
    "len(fs_test)"
   ]
  }
 ],
 "metadata": {
  "kernelspec": {
   "display_name": "Python 3",
   "language": "python",
   "name": "python3"
  },
  "language_info": {
   "codemirror_mode": {
    "name": "ipython",
    "version": 3
   },
   "file_extension": ".py",
   "mimetype": "text/x-python",
   "name": "python",
   "nbconvert_exporter": "python",
   "pygments_lexer": "ipython3",
   "version": "3.7.1"
  }
 },
 "nbformat": 4,
 "nbformat_minor": 2
}
